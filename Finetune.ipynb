{
  "cells": [
    {
      "cell_type": "code",
      "source": [
        "%pip install -U azure-ai-ml"
      ],
      "outputs": [],
      "execution_count": null,
      "metadata": {
        "jupyter": {
          "source_hidden": false,
          "outputs_hidden": false
        },
        "nteract": {
          "transient": {
            "deleting": false
          }
        }
      }
    },
    {
      "cell_type": "code",
      "source": [
        "%pip install openai==0.27.8"
      ],
      "outputs": [],
      "execution_count": null,
      "metadata": {
        "jupyter": {
          "source_hidden": false,
          "outputs_hidden": true
        },
        "nteract": {
          "transient": {
            "deleting": false
          }
        },
        "gather": {
          "logged": 1704709296433
        }
      }
    },
    {
      "cell_type": "code",
      "source": [
        "import openai\n",
        "openai.api_type = \"azure\"\n",
        "openai.api_base = \"https://ailabazopenai.openai.azure.com/\"\n",
        "openai.api_version = \"2023-09-15-preview\"\n",
        "openai.api_key = \"3ba432368c0b4ca194bde12025453337\"\n",
        "\n",
        "response = openai.ChatCompletion.create(\n",
        "      engine=\"ailabgp35turbo\",\n",
        "      messages = [{\"role\": \"system\", \"content\": \"You are a receptionst, greeet customer with smile\"},\n",
        "                {\"role\": \"user\", \"content\": \"I lost my wallet\"}],\n",
        "      temperature=0.5,\n",
        "      max_tokens=800,\n",
        "      top_p=0.95,\n",
        "      frequency_penalty=0,\n",
        "      presence_penalty=0,\n",
        "      stop=None\n",
        "    )"
      ],
      "outputs": [],
      "execution_count": null,
      "metadata": {
        "jupyter": {
          "source_hidden": false,
          "outputs_hidden": false
        },
        "nteract": {
          "transient": {
            "deleting": false
          }
        },
        "gather": {
          "logged": 1704805199006
        }
      }
    },
    {
      "cell_type": "code",
      "source": [
        "print(response['choices'][0]['message']['content'])"
      ],
      "outputs": [],
      "execution_count": null,
      "metadata": {
        "jupyter": {
          "source_hidden": false,
          "outputs_hidden": false
        },
        "nteract": {
          "transient": {
            "deleting": false
          }
        }
      }
    },
    {
      "cell_type": "code",
      "source": [
        "import openai\n",
        "openai.api_type = \"azure\"\n",
        "openai.api_base = \"https://ailabazopenaise.openai.azure.com/\"\n",
        "openai.api_version = \"2023-09-15-preview\"\n",
        "openai.api_key = \"07a2db3305d14f619202c549ca81b0d2\"\n",
        "\n",
        "response = openai.Completion.create(\n",
        "      engine=\"sdk-train-babbage-polysilicon-m01\",\n",
        "      prompt = \"\"\"The Ministry of New and Renewable Energy (MNRE) has received the President of India’s nod for a new solar energy scheme targeting the electrification of 100,000 unelectrified households in tribal regions with off-grid solar.  \n",
        "The new scheme for Particularly Vulnerable Tribal Groups (PVTG) Habitations/Villages has been devised under the Pradhan Mantri Janjati Adivasi Nyaya Maha Abhiyan (PM JANMAN). The off-grid solar solution could be through solar home lighting systems (SHLS) or solar mini-grids, based on the results of field surveys. \n",
        "Off-grid solar systems will be made available for target households in regions where grid electricity supply is not feasible on a techno-economic basis. The Ministry of Tribal Affairs (MoTA) has identified beneficiary households in 18 states of Andhra Pradesh, Bihar, Chhattisgarh, Gujarat, Jharkhand, Karnataka, Kerala, Madhya Pradesh, Maharashtra, Manipur, Odisha, Rajasthan, Tamil Nadu, Telangana, Tripura, Uttar Pradesh, Uttarakhand and West Bengal, along with the Union Territory of Andaman & Nicobar Islands. \n",
        "The central government will cover 100 cost of 0.3 kW solar off-grid system for all 100,000 households, fixed at INR 50,000 ($602)/household. \n",
        "Additionally, under the scheme, solar lighting will be provided for 1,500 multi-purpose centers (MOC) in PVTG areas that are off the grid with the central government bearing 100% cost of INR 100,000 ($1,203)/MPC.\"\"\",\n",
        "      temperature=0,\n",
        "      max_tokens=10,\n",
        "      top_p=0,\n",
        "      frequency_penalty=0,\n",
        "      presence_penalty=0,\n",
        "      stop=None\n",
        "    )"
      ],
      "outputs": [],
      "execution_count": null,
      "metadata": {
        "jupyter": {
          "source_hidden": false,
          "outputs_hidden": false
        },
        "nteract": {
          "transient": {
            "deleting": false
          }
        },
        "gather": {
          "logged": 1704888193843
        }
      }
    },
    {
      "cell_type": "code",
      "source": [
        "print(response['choices'][0]['text'])"
      ],
      "outputs": [],
      "execution_count": null,
      "metadata": {
        "jupyter": {
          "source_hidden": false,
          "outputs_hidden": false
        },
        "nteract": {
          "transient": {
            "deleting": false
          }
        },
        "gather": {
          "logged": 1704907278511
        }
      }
    },
    {
      "cell_type": "code",
      "source": [
        "# Import required libraries\n",
        "from azure.identity import DefaultAzureCredential, InteractiveBrowserCredential\n",
        "\n",
        "from azure.ai.ml import MLClient, Input, load_component\n",
        "from azure.ai.ml.constants import AssetTypes\n",
        "from azure.ai.ml.dsl import pipeline"
      ],
      "outputs": [],
      "execution_count": 2,
      "metadata": {
        "jupyter": {
          "source_hidden": false,
          "outputs_hidden": false
        },
        "nteract": {
          "transient": {
            "deleting": false
          }
        },
        "gather": {
          "logged": 1704907287054
        }
      }
    },
    {
      "cell_type": "code",
      "source": [
        "try:\n",
        "    credential = DefaultAzureCredential()\n",
        "    # Check if given credential can get token successfully.\n",
        "    credential.get_token(\"https://management.azure.com/.default\")\n",
        "except Exception as ex:\n",
        "    # Fall back to InteractiveBrowserCredential in case DefaultAzureCredential not work\n",
        "    credential = InteractiveBrowserCredential()"
      ],
      "outputs": [],
      "execution_count": 3,
      "metadata": {
        "jupyter": {
          "source_hidden": false,
          "outputs_hidden": false
        },
        "nteract": {
          "transient": {
            "deleting": false
          }
        },
        "gather": {
          "logged": 1704907290015
        }
      }
    },
    {
      "cell_type": "code",
      "source": [
        "subscription_id = \"f82813e8-b867-48da-9671-d9d20f33bee4\"\n",
        "resource_group = \"AILabs-Common-NonProd-HRGPT-RG\"\n",
        "workspace_name = \"ailabaml01se\""
      ],
      "outputs": [],
      "execution_count": 4,
      "metadata": {
        "jupyter": {
          "source_hidden": false,
          "outputs_hidden": false
        },
        "nteract": {
          "transient": {
            "deleting": false
          }
        },
        "gather": {
          "logged": 1704907293751
        }
      }
    },
    {
      "cell_type": "code",
      "source": [
        "# Get a handle to registry\n",
        "ml_client = MLClient(\n",
        "    credential=credential, registry_name=\"azureml\", registry_location=\"swedencentral\"\n",
        ")\n",
        "\n",
        "finetune_pipeline = load_component(\n",
        "    client=ml_client, name=\"openai_completions_finetune_pipeline\", version=\"0.1.2\"\n",
        ")"
      ],
      "outputs": [],
      "execution_count": 5,
      "metadata": {
        "jupyter": {
          "source_hidden": false,
          "outputs_hidden": false
        },
        "nteract": {
          "transient": {
            "deleting": false
          }
        },
        "gather": {
          "logged": 1704907297895
        }
      }
    },
    {
      "cell_type": "code",
      "source": [
        "models = ml_client.models.list()\n",
        "for model in models:\n",
        "    print(model.name)\n",
        "    print(model.version)"
      ],
      "outputs": [
        {
          "output_type": "stream",
          "name": "stdout",
          "text": "OpenAI-CLIP-Image-Text-Embeddings-ViT-Large-Patch14-336\nNone\nplayground-ayod-rag\nNone\ndeci-decidiffusion-v1-0\nNone\nDeci-DeciLM-7B-instruct\nNone\nDeci-DeciLM-7B\nNone\nDeci-DeciCoder-1b\nNone\nmistralai-Mixtral-8x7B-v01\nNone\nmmd-3x-yolof_r50_c5_8x8_1x_coco\nNone\nmmd-3x-vfnet_x101-64x4d-mdconv-c3-c5_fpn_ms-2x_coco\nNone\nmmd-3x-vfnet_r50-mdconv-c3-c5_fpn_ms-2x_coco\nNone\nmmd-3x-sparse-rcnn_r50_fpn_300-proposals_crop-ms-480-800-3x_coco\nNone\nmmd-3x-sparse-rcnn_r101_fpn_300-proposals_crop-ms-480-800-3x_coco\nNone\nmmd-3x-mask-rcnn_swin-t-p4-w7_fpn_1x_coco\nNone\nmmd-3x-deformable-detr_refine_twostage_r50_16xb2-50e_coco\nNone\nmicrosoft-Orca-2-7b\nNone\nmicrosoft-Orca-2-13b\nNone\nstabilityai-stable-diffusion-xl-refiner-1-0\nNone\nAutoML-Image-Object-Detection\nNone\nAutoML-Image-Instance-Segmentation\nNone\nAutoML-Image-Classification\nNone\nmmeft\nNone\nocsort_yolox_x_crowdhuman_mot17-private-half\nNone\nbytetrack_yolox_x_crowdhuman_mot17-private-half\nNone\nmistralai-Mistral-7B-v01\nNone\nmistralai-Mistral-7B-Instruct-v01\nNone\nfacebook-sam-vit-large\nNone\nfacebook-sam-vit-huge\nNone\nfacebook-sam-vit-base\nNone\nopenai-whisper-large-v3\nNone\nqna-rag-metrics-eval\nNone\nqna-non-rag-metrics-eval\nNone\nSalesforce-BLIP-vqa-base\nNone\nSalesforce-BLIP-image-captioning-base\nNone\nSalesforce-BLIP-2-opt-2-7b-vqa\nNone\nSalesforce-BLIP-2-opt-2-7b-image-to-text\nNone\nopenai-clip-vit-large-patch14\nNone\nOpenAI-CLIP-Image-Text-Embeddings-vit-base-patch32\nNone\nopenai-clip-vit-base-patch32\nNone\nstabilityai-stable-diffusion-2-inpainting\nNone\nstabilityai-stable-diffusion-2-1\nNone\nrunwayml-stable-diffusion-v1-5\nNone\nrunwayml-stable-diffusion-inpainting\nNone\ncompvis-stable-diffusion-v1-4\nNone\nweb-classification\nNone\ntemplate-standard-flow\nNone\ntemplate-eval-flow\nNone\ntemplate-chat-flow\nNone\nqna-with-your-own-data-using-faiss-index\nNone\nqna-relevance-eval\nNone\nqna-groundedness-eval\nNone\nqna-gpt-similarity-eval\nNone\nqna-fluency-eval\nNone\nqna-f1-score-eval\nNone\nqna-coherence-eval\nNone\nqna-ada-similarity-eval\nNone\nhow-to-use-functions-with-GPT-chat-API\nNone\nclassification-accuracy-eval\nNone\nchat-with-wikipedia\nNone\nbring-your-own-data-chat-qna\nNone\nask-wikipedia\nNone\ntiiuae-falcon-40b\nNone\nbring-your-own-data-qna\nNone\ndeformable_detr_twostage_refine_r50_16x2_50e_coco\nNone\nsparse_rcnn_r50_fpn_300_proposals_crop_mstrain_480-800_3x_coco\nNone\nvfnet_x101_64x4d_fpn_mdconv_c3-c5_mstrain_2x_coco\nNone\nmask_rcnn_swin-t-p4-w7_fpn_1x_coco\nNone\nsparse_rcnn_r101_fpn_300_proposals_crop_mstrain_480-800_3x_coco\nNone\nyolof_r50_c5_8x8_1x_coco\nNone\nmicrosoft-beit-base-patch16-224-pt22k-ft22k\nNone\ngoogle-vit-base-patch16-224\nNone\nmicrosoft-swinv2-base-patch4-window12-192-22k\nNone\nvfnet_r50_fpn_mdconv_c3-c5_mstrain_2x_coco\nNone\nfacebook-deit-base-patch16-224\nNone\ntiiuae-falcon-7b\nNone\ndatabricks-dolly-v2-12b\nNone\nbert-base-cased\nNone\ndeepset-minilm-uncased-squad2\nNone\nroberta-large-openai-detector\nNone\nopenai-whisper-large\nNone\nsshleifer-distilbart-cnn-12-6\nNone\ndistilroberta-base\nNone\nroberta-base\nNone\nfiniteautomata-bertweet-base-sentiment-analysis\nNone\nfacebook-bart-large-cnn\nNone\ndistilbert-base-cased\nNone\nt5-base\nNone\nroberta-large\nNone\nbert-large-uncased\nNone\ndeepset-roberta-base-squad2\nNone\ndistilbert-base-uncased-distilled-squad\nNone\ndistilbert-base-uncased\nNone\nmicrosoft-deberta-base-mnli\nNone\nbert-large-cased\nNone\ndistilbert-base-uncased-finetuned-sst-2-english\nNone\nt5-small\nNone\ngpt2-medium\nNone\nmicrosoft-deberta-large-mnli\nNone\ngpt2-large\nNone\nJean-Baptiste-camembert-ner\nNone\nroberta-large-mnli\nNone\ndistilbert-base-cased-distilled-squad\nNone\nbert-base-uncased\nNone\nmicrosoft-deberta-large\nNone\nt5-large\nNone\ncamembert-base\nNone\nmicrosoft-deberta-xlarge\nNone\nroberta-base-openai-detector\nNone\ngpt2\nNone\ndistilgpt2\nNone\nmicrosoft-deberta-base\nNone\n"
        }
      ],
      "execution_count": 6,
      "metadata": {
        "jupyter": {
          "source_hidden": false,
          "outputs_hidden": false
        },
        "nteract": {
          "transient": {
            "deleting": false
          }
        },
        "gather": {
          "logged": 1704907305420
        }
      }
    },
    {
      "cell_type": "code",
      "source": [
        "print(\"Pipeline component loaded successfully. Component spec:\")\n",
        "print(finetune_pipeline)"
      ],
      "outputs": [
        {
          "output_type": "stream",
          "name": "stdout",
          "text": "Pipeline component loaded successfully. Component spec:\n$schema: http://azureml/sdk-2-0/PipelineComponent.json\nname: openai_completions_finetune_pipeline\nversion: 0.1.2\ndisplay_name: OpenAI Completions Finetune Pipeline\ndescription: Finetune your own OAI model. Visit https://learn.microsoft.com/en-us/azure/cognitive-services/openai/\n  for more info.\ntags:\n  contact: gpt3finetuning@microsoft.com\ntype: pipeline\ninputs:\n  train_dataset:\n    type: uri_folder\n    description: Input dataset (file or folder). If a folder dataset is passed, includes\n      all nested files.\n    optional: false\n  validation_dataset:\n    type: uri_folder\n    description: Input dataset (file or folder). If a folder dataset is passed, includes\n      all nested files.\n    optional: true\n  model:\n    type: string\n    optional: false\n    default: gpt-35-turbo\n    description: GPT model engine\n    enum:\n    - babbage-002\n    - davinci-002\n    - gpt-35-turbo\n    - gpt-4\n  task_type:\n    type: string\n    optional: false\n    description: Dataset type - chat or completion\n    enum:\n    - chat\n    - completion\n  registered_model_name:\n    type: string\n    optional: false\n    description: User-defined registered model name\n  n_epochs:\n    type: integer\n    optional: false\n    default: '-1'\n    description: Number of training epochs. If set to -1, number of epochs will be\n      determined dynamically based on the input data.\n  learning_rate_multiplier:\n    type: number\n    optional: false\n    default: '1.0'\n    description: The learning rate multiplier to use for training.\n  batch_size:\n    type: integer\n    optional: false\n    default: '-1'\n    description: Global batch size. If set to -1, batch size will be determined dynamically\n      based on the input data.\noutputs:\n  output_model:\n    type: uri_folder\n    description: Dataset with the output model weights (LoRA weights)\ncreation_context:\n  created_at: '2023-12-01T23:51:39.656824+00:00'\n  created_by: Microsoft\n  created_by_type: User\n  last_modified_at: '2023-12-01T23:51:39.656824+00:00'\n  last_modified_by: Microsoft\n  last_modified_by_type: User\nid: azureml://registries/azureml/components/openai_completions_finetune_pipeline/versions/0.1.2\nis_deterministic: false\n\n"
        }
      ],
      "execution_count": 7,
      "metadata": {
        "jupyter": {
          "source_hidden": false,
          "outputs_hidden": false
        },
        "nteract": {
          "transient": {
            "deleting": false
          }
        },
        "gather": {
          "logged": 1704907308937
        }
      }
    },
    {
      "cell_type": "code",
      "source": [
        "TASK_TYPE = \"completion\"  # Change this to completion for completion dataset\n",
        "\n",
        "\n",
        "# Construct pipeline\n",
        "@pipeline()\n",
        "def pipeline_with_registered_component(\n",
        "    train_dataset,\n",
        "    validation_dataset,\n",
        "    training_max_epochs=45,\n",
        "    model=\"babbage-002\",\n",
        "    registered_model_name=\"sdk-train-babbage-polysilicon-m03\",\n",
        "    learning_rate_multiplier=1,\n",
        "    batch_size=15,\n",
        "    task_type=\"completion\",\n",
        "):\n",
        "    openai_completions_finetune_component_results = finetune_pipeline(\n",
        "        train_dataset=train_dataset,\n",
        "        validation_dataset=validation_dataset,\n",
        "        n_epochs=training_max_epochs,\n",
        "        model=model,\n",
        "        task_type=task_type,\n",
        "        registered_model_name=registered_model_name,\n",
        "        learning_rate_multiplier=learning_rate_multiplier,\n",
        "        batch_size=batch_size,\n",
        "    )\n",
        "\n",
        "    return openai_completions_finetune_component_results\n",
        "\n",
        "\n",
        "pipeline_job = pipeline_with_registered_component(\n",
        "    train_dataset=Input(type=AssetTypes.URI_FILE, path=\"./data/solar_train_dataset.jsonl\"),\n",
        "    validation_dataset=Input(type=AssetTypes.URI_FILE, path=\"./data/solar_valid_dataset.jsonl\"),\n",
        "    training_max_epochs=45,\n",
        "    model=\"babbage-002\",  # Select any model from [\"babbage-002\", \"davinci-002\", \"gpt-35-turbo\"]\n",
        "    task_type=TASK_TYPE,\n",
        "    registered_model_name=\"sdk-train-babbage-polysilicon-m03\",\n",
        "    learning_rate_multiplier=1,\n",
        "    batch_size=15,\n",
        ")\n",
        "\n",
        "# set pipeline level compute\n",
        "pipeline_job.settings.default_compute = \"serverless\""
      ],
      "outputs": [],
      "execution_count": 8,
      "metadata": {
        "jupyter": {
          "source_hidden": false,
          "outputs_hidden": false
        },
        "nteract": {
          "transient": {
            "deleting": false
          }
        },
        "gather": {
          "logged": 1704907324728
        }
      }
    },
    {
      "cell_type": "code",
      "source": [
        "subscription_id = \"f82813e8-b867-48da-9671-d9d20f33bee4\"\n",
        "resource_group = \"AILabs-Common-NonProd-HRGPT-RG\"\n",
        "workspace_name = \"ailabaml01se\""
      ],
      "outputs": [],
      "execution_count": 12,
      "metadata": {
        "jupyter": {
          "source_hidden": false,
          "outputs_hidden": false
        },
        "nteract": {
          "transient": {
            "deleting": false
          }
        },
        "gather": {
          "logged": 1704909643559
        }
      }
    },
    {
      "cell_type": "code",
      "source": [
        "workspace_ml_client = MLClient(credential, subscription_id, resource_group, workspace_name)"
      ],
      "outputs": [],
      "execution_count": 13,
      "metadata": {
        "jupyter": {
          "source_hidden": false,
          "outputs_hidden": false
        },
        "nteract": {
          "transient": {
            "deleting": false
          }
        },
        "gather": {
          "logged": 1704909646220
        }
      }
    },
    {
      "cell_type": "code",
      "source": [
        "# Submit pipeline job to workspace\n",
        "pipeline_job = workspace_ml_client.jobs.create_or_update(\n",
        "    pipeline_job, experiment_name=\"sdk-train-pipeline-babbage-polysilicon-m03\"\n",
        ")\n",
        "pipeline_job"
      ],
      "outputs": [
        {
          "output_type": "stream",
          "name": "stderr",
          "text": "Class AutoDeleteSettingSchema: This is an experimental class, and may change at any time. Please see https://aka.ms/azuremlexperimental for more information.\nClass AutoDeleteConditionSchema: This is an experimental class, and may change at any time. Please see https://aka.ms/azuremlexperimental for more information.\nClass BaseAutoDeleteSettingSchema: This is an experimental class, and may change at any time. Please see https://aka.ms/azuremlexperimental for more information.\nClass IntellectualPropertySchema: This is an experimental class, and may change at any time. Please see https://aka.ms/azuremlexperimental for more information.\nClass ProtectionLevelSchema: This is an experimental class, and may change at any time. Please see https://aka.ms/azuremlexperimental for more information.\nClass BaseIntellectualPropertySchema: This is an experimental class, and may change at any time. Please see https://aka.ms/azuremlexperimental for more information.\n\u001b[32mUploading solar_train_dataset.jsonl\u001b[32m (< 1 MB): 100%|██████████| 543k/543k [00:00<00:00, 15.3MB/s]\n\u001b[39m\n\n\u001b[32mUploading solar_valid_dataset.jsonl\u001b[32m (< 1 MB): 100%|██████████| 135k/135k [00:00<00:00, 7.07MB/s]\n\u001b[39m\n\n"
        },
        {
          "output_type": "execute_result",
          "execution_count": 11,
          "data": {
            "text/plain": "PipelineJob({'inputs': {'train_dataset': <azure.ai.ml.entities._job.pipeline._io.base.PipelineInput object at 0x7fdcca660e50>, 'validation_dataset': <azure.ai.ml.entities._job.pipeline._io.base.PipelineInput object at 0x7fdcca660f40>, 'training_max_epochs': <azure.ai.ml.entities._job.pipeline._io.base.PipelineInput object at 0x7fdcca661210>, 'model': <azure.ai.ml.entities._job.pipeline._io.base.PipelineInput object at 0x7fdcca662d10>, 'registered_model_name': <azure.ai.ml.entities._job.pipeline._io.base.PipelineInput object at 0x7fdcca6629b0>, 'learning_rate_multiplier': <azure.ai.ml.entities._job.pipeline._io.base.PipelineInput object at 0x7fdcca660940>, 'batch_size': <azure.ai.ml.entities._job.pipeline._io.base.PipelineInput object at 0x7fdcca660a60>, 'task_type': <azure.ai.ml.entities._job.pipeline._io.base.PipelineInput object at 0x7fdcca662e30>}, 'outputs': {}, 'jobs': {}, 'component': PipelineComponent({'intellectual_property': None, 'auto_increment_version': False, 'source': 'REMOTE.WORKSPACE.JOB', 'is_anonymous': True, 'auto_delete_setting': None, 'name': 'azureml_anonymous', 'description': None, 'tags': {}, 'properties': {}, 'print_as_yaml': True, 'id': None, 'Resource__source_path': None, 'base_path': '/mnt/batch/tasks/shared/LS_root/mounts/clusters/ailabci01se/code/Users/30097220', 'creation_context': None, 'serialize': <msrest.serialization.Serializer object at 0x7fdcca662c80>, 'version': '1', 'latest_version': None, 'schema': None, 'type': 'pipeline', 'display_name': 'pipeline_with_registered_component', 'is_deterministic': None, 'inputs': {'train_dataset': {}, 'validation_dataset': {}, 'training_max_epochs': {}, 'model': {}, 'registered_model_name': {}, 'learning_rate_multiplier': {}, 'batch_size': {}, 'task_type': {}}, 'outputs': {}, 'yaml_str': None, 'other_parameter': {}, 'jobs': {'openai_completions_finetune_component_results': Pipeline({'init': False, 'name': 'openai_completions_finetune_component_results', 'type': 'pipeline', 'status': None, 'log_files': None, 'description': None, 'tags': {}, 'properties': {}, 'print_as_yaml': True, 'id': None, 'Resource__source_path': None, 'base_path': '/mnt/batch/tasks/shared/LS_root/mounts/clusters/ailabci01se/code/Users/30097220', 'creation_context': None, 'serialize': <msrest.serialization.Serializer object at 0x7fdcd850fca0>, 'allowed_keys': {}, 'key_restriction': False, 'logger': <Logger attr_dict (WARNING)>, 'display_name': None, 'experiment_name': None, 'compute': None, 'services': None, 'comment': None, 'job_inputs': {'train_dataset': '${{parent.inputs.train_dataset}}', 'validation_dataset': '${{parent.inputs.validation_dataset}}', 'model': '${{parent.inputs.model}}', 'task_type': '${{parent.inputs.task_type}}', 'registered_model_name': '${{parent.inputs.registered_model_name}}', 'n_epochs': '${{parent.inputs.training_max_epochs}}', 'learning_rate_multiplier': '${{parent.inputs.learning_rate_multiplier}}', 'batch_size': '${{parent.inputs.batch_size}}'}, 'job_outputs': {}, 'inputs': {'train_dataset': <azure.ai.ml.entities._job.pipeline._io.base.NodeInput object at 0x7fdcca6618a0>, 'validation_dataset': <azure.ai.ml.entities._job.pipeline._io.base.NodeInput object at 0x7fdcca6617b0>, 'model': <azure.ai.ml.entities._job.pipeline._io.base.NodeInput object at 0x7fdcca661810>, 'task_type': <azure.ai.ml.entities._job.pipeline._io.base.NodeInput object at 0x7fdcca663160>, 'registered_model_name': <azure.ai.ml.entities._job.pipeline._io.base.NodeInput object at 0x7fdcca6612a0>, 'n_epochs': <azure.ai.ml.entities._job.pipeline._io.base.NodeInput object at 0x7fdcca662650>, 'learning_rate_multiplier': <azure.ai.ml.entities._job.pipeline._io.base.NodeInput object at 0x7fdcca661cf0>, 'batch_size': <azure.ai.ml.entities._job.pipeline._io.base.NodeInput object at 0x7fdcca662440>}, 'outputs': {}, 'component': 'azureml://registries/azureml/components/openai_completions_finetune_pipeline/versions/0.1.2', 'referenced_control_flow_node_instance_id': None, 'kwargs': {}, 'instance_id': '86b76e2c-fd5c-412b-a7f7-e849e0b484cc', 'source': 'REMOTE.REGISTRY', 'validate_required_input_not_provided': True, 'settings': None})}, 'job_types': {'pipeline': 1}, 'job_sources': {'REMOTE.REGISTRY': 1}, 'source_job_id': None}), 'type': 'pipeline', 'status': 'Preparing', 'log_files': None, 'name': 'ashy_wing_dg3lxgjmsb', 'description': None, 'tags': {}, 'properties': {'mlflow.source.git.repoURL': 'https://Adani-Enterprises-Limited@dev.azure.com/Adani-Enterprises-Limited/Adani%20AI%20Lab/_git/Adani%20AI%20Lab', 'mlflow.source.git.branch': 'Solar_GN_Finetune', 'mlflow.source.git.commit': 'bc7351a674a8ce425d19d5898386c7bd1d5dbfed', 'azureml.git.dirty': 'True', 'azureml.DevPlatv2': 'true', 'azureml.DatasetAccessMode': 'Asset', 'azureml.runsource': 'azureml.PipelineRun', 'runSource': 'MFE', 'runType': 'HTTP', 'azureml.parameters': '{\"training_max_epochs\":\"45\",\"model\":\"babbage-002\",\"registered_model_name\":\"sdk-train-babbage-polysilicon-m03\",\"learning_rate_multiplier\":\"1\",\"batch_size\":\"15\",\"task_type\":\"completion\"}', 'azureml.continue_on_step_failure': 'True', 'azureml.continue_on_failed_optional_input': 'True', 'azureml.enforceRerun': 'False', 'azureml.defaultComputeName': 'serverless', 'azureml.defaultDataStoreName': 'workspaceblobstore', 'azureml.pipelineComponent': 'pipelinerun'}, 'print_as_yaml': True, 'id': '/subscriptions/f82813e8-b867-48da-9671-d9d20f33bee4/resourceGroups/AILabs-Common-NonProd-HRGPT-RG/providers/Microsoft.MachineLearningServices/workspaces/ailabaml01se/jobs/ashy_wing_dg3lxgjmsb', 'Resource__source_path': None, 'base_path': '/mnt/batch/tasks/shared/LS_root/mounts/clusters/ailabci01se/code/Users/30097220', 'creation_context': <azure.ai.ml.entities._system_data.SystemData object at 0x7fdcca662f20>, 'serialize': <msrest.serialization.Serializer object at 0x7fdcca6612d0>, 'display_name': 'pipeline_with_registered_component', 'experiment_name': 'sdk-train-pipeline-babbage-polysilicon-m03', 'compute': None, 'services': {'Tracking': {'endpoint': 'azureml://swedencentral.api.azureml.ms/mlflow/v1.0/subscriptions/f82813e8-b867-48da-9671-d9d20f33bee4/resourceGroups/AILabs-Common-NonProd-HRGPT-RG/providers/Microsoft.MachineLearningServices/workspaces/ailabaml01se?', 'type': 'Tracking'}, 'Studio': {'endpoint': 'https://ml.azure.com/runs/ashy_wing_dg3lxgjmsb?wsid=/subscriptions/f82813e8-b867-48da-9671-d9d20f33bee4/resourcegroups/AILabs-Common-NonProd-HRGPT-RG/workspaces/ailabaml01se&tid=04c72f56-1848-46a2-8167-8e5d36510cbc', 'type': 'Studio'}}, 'settings': {}, 'identity': None, 'default_code': None, 'default_environment': None})",
            "text/html": "<table style=\"width:100%\"><tr><th>Experiment</th><th>Name</th><th>Type</th><th>Status</th><th>Details Page</th></tr><tr><td>sdk-train-pipeline-babbage-polysilicon-m03</td><td>ashy_wing_dg3lxgjmsb</td><td>pipeline</td><td>Preparing</td><td><a href=\"https://ml.azure.com/runs/ashy_wing_dg3lxgjmsb?wsid=/subscriptions/f82813e8-b867-48da-9671-d9d20f33bee4/resourcegroups/AILabs-Common-NonProd-HRGPT-RG/workspaces/ailabaml01se&amp;tid=04c72f56-1848-46a2-8167-8e5d36510cbc\" target=\"_blank\" rel=\"noopener\">Link to Azure Machine Learning studio</a></td></tr></table>"
          },
          "metadata": {}
        }
      ],
      "execution_count": 11,
      "metadata": {
        "jupyter": {
          "source_hidden": false,
          "outputs_hidden": false
        },
        "nteract": {
          "transient": {
            "deleting": false
          }
        },
        "gather": {
          "logged": 1704907356183
        }
      }
    },
    {
      "cell_type": "code",
      "source": [
        "import requests\n",
        "import json\n",
        "import subprocess\n",
        "\n",
        "# 1. Add your Azure OpenAI account details\n",
        "subscription = \"f82813e8-b867-48da-9671-d9d20f33bee4\"\n",
        "resource_group = \"AILabs-Common-NonProd-HRGPT-RG\"\n",
        "resource_name = \"ailabazopenaise\" #openai resource name\n",
        "model_deployment_name = \"sdk-train-babbage-polysilicon-m03\"\n",
        "\n",
        "# 2. Add the AzureML registered model name, registered model version, and the AzureML (AML) workspace path for your fine-tuned model.\n",
        "# Your registered models data can be found in the `Models` tab of your AzureML workspace.\n",
        "registered_model_name = \"sdk-train-babbage-polysilicon-m03\"\n",
        "registered_model_version = \"1\"\n",
        "workspace_path = f\"/subscriptions/f82813e8-b867-48da-9671-d9d20f33bee4/resourcegroups/AILabs-Common-NonProd-HRGPT-RG/providers/Microsoft.MachineLearningServices/workspaces/ailabaml01se\"\n",
        "#workspace_path = f\"/subscriptions/{subscription}/resourcegroups/{resource_group}/providers/Microsoft.MachineLearningServices/workspaces/{workspace_name}\"\n"
      ],
      "outputs": [],
      "execution_count": 14,
      "metadata": {
        "jupyter": {
          "source_hidden": false,
          "outputs_hidden": false
        },
        "nteract": {
          "transient": {
            "deleting": false
          }
        },
        "gather": {
          "logged": 1704909670164
        }
      }
    },
    {
      "cell_type": "code",
      "source": [
        "from azure.identity import DefaultAzureCredential, InteractiveBrowserCredential\n",
        "\n",
        "try:\n",
        "    credential = DefaultAzureCredential()\n",
        "    # Check if given credential can get token successfully.\n",
        "    access_token = credential.get_token(\"https://management.azure.com/.default\")\n",
        "    token = access_token.token\n",
        "except Exception as ex:\n",
        "    # Fall back to InteractiveBrowserCredential in case DefaultAzureCredential not work\n",
        "    # This will open a browser page for\n",
        "    credential = InteractiveBrowserCredential()"
      ],
      "outputs": [],
      "execution_count": 15,
      "metadata": {
        "jupyter": {
          "source_hidden": false,
          "outputs_hidden": false
        },
        "nteract": {
          "transient": {
            "deleting": false
          }
        },
        "gather": {
          "logged": 1704909678758
        }
      }
    },
    {
      "cell_type": "code",
      "source": [
        "deploy_params = {\"api-version\": \"2023-05-01\"}\n",
        "deploy_headers = {\n",
        "    \"Authorization\": f\"Bearer {token}\",\n",
        "    \"Content-Type\": \"application/json\",\n",
        "}\n",
        "\n",
        "# 4. Set model deployment configuration. Here capacity refers to support for `1K Tokens Per Minute (TPM)` for your deployment.\n",
        "deploy_data = {\n",
        "    \"sku\": {\"name\": \"Standard\", \"capacity\": 1},\n",
        "    \"properties\": {\n",
        "        \"model\": {\n",
        "            \"format\": \"OpenAI\",\n",
        "            \"name\": f\"{registered_model_name}\",\n",
        "            \"version\": f\"{registered_model_version}\",\n",
        "            \"source\": f\"{workspace_path}\",\n",
        "        }\n",
        "    },\n",
        "}\n",
        "\n",
        "deploy_data = json.dumps(deploy_data)"
      ],
      "outputs": [],
      "execution_count": null,
      "metadata": {
        "jupyter": {
          "source_hidden": false,
          "outputs_hidden": false
        },
        "nteract": {
          "transient": {
            "deleting": false
          }
        },
        "gather": {
          "logged": 1704892995779
        }
      }
    },
    {
      "cell_type": "code",
      "source": [
        "deploy_params = {\"api-version\": \"2023-05-01\"}\n",
        "deploy_headers = {\n",
        "    \"Authorization\": f\"Bearer {token}\",\n",
        "    \"Content-Type\": \"application/json\",\n",
        "}\n",
        "\n",
        "# 4. Set model deployment configuration. Here capacity refers to support for `1K Tokens Per Minute (TPM)` for your deployment.\n",
        "deploy_data = {\n",
        "    \"sku\": {\"name\": \"Standard\", \"capacity\": 50},\n",
        "    \"properties\": {\n",
        "        \"model\": {\n",
        "            \"format\": \"OpenAI\",\n",
        "            \"name\": f\"{registered_model_name}\",\n",
        "            \"version\": f\"{registered_model_version}\",\n",
        "            \"source\": f\"{workspace_path}\",\n",
        "        }\n",
        "    },\n",
        "}\n",
        "\n",
        "deploy_data = json.dumps(deploy_data)"
      ],
      "outputs": [],
      "execution_count": 16,
      "metadata": {
        "jupyter": {
          "source_hidden": false,
          "outputs_hidden": false
        },
        "nteract": {
          "transient": {
            "deleting": false
          }
        },
        "gather": {
          "logged": 1704909705397
        }
      }
    },
    {
      "cell_type": "code",
      "source": [
        "# 5. Send PUT request to Azure cognitive services to create model deployment\n",
        "request_url = f\"https://management.azure.com//subscriptions/f82813e8-b867-48da-9671-d9d20f33bee4/resourcegroups/AILabs-Common-NonProd-HRGPT-RG/providers/Microsoft.CognitiveServices/accounts/ailabazopenaise/deployments/sdk-train-babbage-polysilicon-m03\"\n",
        "\n",
        "r = requests.put(\n",
        "    request_url, \n",
        "    params=deploy_params, \n",
        "    headers=deploy_headers, \n",
        "    data=deploy_data\n",
        ")\n",
        "\n",
        "print(r.json())\n"
      ],
      "outputs": [
        {
          "output_type": "stream",
          "name": "stdout",
          "text": "{'id': '/subscriptions/f82813e8-b867-48da-9671-d9d20f33bee4/resourceGroups/AILabs-Common-NonProd-HRGPT-RG/providers/Microsoft.CognitiveServices/accounts/ailabazopenaise/deployments/sdk-train-babbage-polysilicon-m03', 'type': 'Microsoft.CognitiveServices/accounts/deployments', 'name': 'sdk-train-babbage-polysilicon-m03', 'sku': {'name': 'Standard', 'capacity': 50}, 'properties': {'model': {'format': 'OpenAI', 'name': 'sdk-train-babbage-polysilicon-m03', 'version': '1', 'source': '/subscriptions/f82813e8-b867-48da-9671-d9d20f33bee4/resourcegroups/AILabs-Common-NonProd-HRGPT-RG/providers/Microsoft.MachineLearningServices/workspaces/ailabaml01se'}, 'versionUpgradeOption': 'NoAutoUpgrade', 'capabilities': {'completion': 'true'}, 'provisioningState': 'Creating', 'rateLimits': [{'key': 'request', 'renewalPeriod': 10, 'count': 50}, {'key': 'token', 'renewalPeriod': 60, 'count': 50000}]}, 'systemData': {'createdBy': '30097220@adani.com', 'createdByType': 'User', 'createdAt': '2024-01-10T18:02:21.1889098Z', 'lastModifiedBy': '30097220@adani.com', 'lastModifiedByType': 'User', 'lastModifiedAt': '2024-01-10T18:02:21.1889098Z'}, 'etag': '\"8e23c526-7f33-44f8-9e19-939289c93d4a\"'}\n"
        }
      ],
      "execution_count": 17,
      "metadata": {
        "jupyter": {
          "source_hidden": false,
          "outputs_hidden": false
        },
        "nteract": {
          "transient": {
            "deleting": false
          }
        },
        "gather": {
          "logged": 1704909752364
        }
      }
    }
  ],
  "metadata": {
    "kernelspec": {
      "name": "python310-sdkv2",
      "language": "python",
      "display_name": "Python 3.10 - SDK v2"
    },
    "language_info": {
      "name": "python",
      "version": "3.10.11",
      "mimetype": "text/x-python",
      "codemirror_mode": {
        "name": "ipython",
        "version": 3
      },
      "pygments_lexer": "ipython3",
      "nbconvert_exporter": "python",
      "file_extension": ".py"
    },
    "microsoft": {
      "ms_spell_check": {
        "ms_spell_check_language": "en"
      },
      "host": {
        "AzureML": {
          "notebookHasBeenCompleted": true
        }
      }
    },
    "kernel_info": {
      "name": "python310-sdkv2"
    },
    "nteract": {
      "version": "nteract-front-end@1.0.0"
    }
  },
  "nbformat": 4,
  "nbformat_minor": 2
}