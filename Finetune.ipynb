{
  "cells": [
    {
      "cell_type": "code",
      "execution_count": null,
      "metadata": {
        "jupyter": {
          "outputs_hidden": false,
          "source_hidden": false
        },
        "nteract": {
          "transient": {
            "deleting": false
          }
        }
      },
      "outputs": [],
      "source": [
        "%pip install -U azure-ai-ml"
      ]
    },
    {
      "cell_type": "code",
      "execution_count": null,
      "metadata": {
        "gather": {
          "logged": 1704709296433
        },
        "jupyter": {
          "outputs_hidden": true,
          "source_hidden": false
        },
        "nteract": {
          "transient": {
            "deleting": false
          }
        }
      },
      "outputs": [],
      "source": [
        "%pip install openai==0.27.8"
      ]
    },
    {
      "cell_type": "code",
      "execution_count": null,
      "metadata": {
        "gather": {
          "logged": 1704805199006
        },
        "jupyter": {
          "outputs_hidden": false,
          "source_hidden": false
        },
        "nteract": {
          "transient": {
            "deleting": false
          }
        }
      },
      "outputs": [],
      "source": [
        "import openai\n",
        "openai.api_type = \"azure\"\n",
        "openai.api_base = \"\"\n",
        "openai.api_version = \"2023-09-15-preview\"\n",
        "openai.api_key = \"\"\n",
        "\n",
        "response = openai.ChatCompletion.create(\n",
        "      engine=\"ailabgp35turbo\",\n",
        "      messages = [{\"role\": \"system\", \"content\": \"You are a receptionst, greeet customer with smile\"},\n",
        "                {\"role\": \"user\", \"content\": \"I lost my wallet\"}],\n",
        "      temperature=0.5,\n",
        "      max_tokens=800,\n",
        "      top_p=0.95,\n",
        "      frequency_penalty=0,\n",
        "      presence_penalty=0,\n",
        "      stop=None\n",
        "    )"
      ]
    },
    {
      "cell_type": "code",
      "execution_count": null,
      "metadata": {
        "jupyter": {
          "outputs_hidden": false,
          "source_hidden": false
        },
        "nteract": {
          "transient": {
            "deleting": false
          }
        }
      },
      "outputs": [],
      "source": [
        "print(response['choices'][0]['message']['content'])"
      ]
    },
    {
      "cell_type": "code",
      "execution_count": null,
      "metadata": {
        "gather": {
          "logged": 1704888193843
        },
        "jupyter": {
          "outputs_hidden": false,
          "source_hidden": false
        },
        "nteract": {
          "transient": {
            "deleting": false
          }
        }
      },
      "outputs": [],
      "source": [
        "import openai\n",
        "openai.api_type = \"azure\"\n",
        "openai.api_base = \"\"\n",
        "openai.api_version = \"2023-09-15-preview\"\n",
        "openai.api_key = \"\"\n",
        "\n",
        "response = openai.Completion.create(\n",
        "      engine=\"sdk-train-babbage-polysilicon-m03\",\n",
        "      prompt = \"\"\"Iberdrola has secured €300 million as an ESG-linked loan from the IFC of the World Bank \n",
        "It aims to help the company expand its renewable energy capacity and reducing polluting emissions \n",
        "Iberdrola will target fossil fuel dependent economies like Morocco, Poland and Vietnam under the deal \n",
        "The Spanish energy group Iberdrola has raised €300 million from the International Finance Corporation (IFC) to invest in renewable energy projects in fossil fuel dependent nations such as Morocco, Poland and Vietnam. \n",
        "\n",
        "Part of a collaboration between the IFC and Iberdrola announced in May 2023 for €150 million, it is aimed at reducing polluting emissions and expanding the company’s renewable energy capacity. \n",
        "\n",
        "They have already agreed to invest €170 million to finance onshore wind energy projects in Poland. \\n\\n###\\n\\n\"\"\",\n",
        "      temperature=0,\n",
        "      max_tokens=5,\n",
        "      top_p=0,\n",
        "      frequency_penalty=0,\n",
        "      presence_penalty=0,\n",
        "      stop=None\n",
        "    )"
      ]
    },
    {
      "cell_type": "code",
      "execution_count": null,
      "metadata": {
        "gather": {
          "logged": 1704907278511
        },
        "jupyter": {
          "outputs_hidden": false,
          "source_hidden": false
        },
        "nteract": {
          "transient": {
            "deleting": false
          }
        }
      },
      "outputs": [],
      "source": [
        "print(response['choices'][0]['text'])"
      ]
    },
    {
      "cell_type": "code",
      "execution_count": null,
      "metadata": {
        "gather": {
          "logged": 1704907287054
        },
        "jupyter": {
          "outputs_hidden": false,
          "source_hidden": false
        },
        "nteract": {
          "transient": {
            "deleting": false
          }
        }
      },
      "outputs": [],
      "source": [
        "# Import required libraries\n",
        "from azure.identity import DefaultAzureCredential, InteractiveBrowserCredential\n",
        "\n",
        "from azure.ai.ml import MLClient, Input, load_component\n",
        "from azure.ai.ml.constants import AssetTypes\n",
        "from azure.ai.ml.dsl import pipeline"
      ]
    },
    {
      "cell_type": "code",
      "execution_count": null,
      "metadata": {
        "gather": {
          "logged": 1704907290015
        },
        "jupyter": {
          "outputs_hidden": false,
          "source_hidden": false
        },
        "nteract": {
          "transient": {
            "deleting": false
          }
        }
      },
      "outputs": [],
      "source": [
        "try:\n",
        "    credential = DefaultAzureCredential()\n",
        "    # Check if given credential can get token successfully.\n",
        "    credential.get_token(\"https://management.azure.com/.default\")\n",
        "except Exception as ex:\n",
        "    # Fall back to InteractiveBrowserCredential in case DefaultAzureCredential not work\n",
        "    credential = InteractiveBrowserCredential()"
      ]
    },
    {
      "cell_type": "code",
      "execution_count": null,
      "metadata": {
        "gather": {
          "logged": 1704907293751
        },
        "jupyter": {
          "outputs_hidden": false,
          "source_hidden": false
        },
        "nteract": {
          "transient": {
            "deleting": false
          }
        }
      },
      "outputs": [],
      "source": [
        "subscription_id = \"\"\n",
        "resource_group = \"\"\n",
        "workspace_name = \"\""
      ]
    },
    {
      "cell_type": "code",
      "execution_count": null,
      "metadata": {
        "gather": {
          "logged": 1704907297895
        },
        "jupyter": {
          "outputs_hidden": false,
          "source_hidden": false
        },
        "nteract": {
          "transient": {
            "deleting": false
          }
        }
      },
      "outputs": [],
      "source": [
        "# Get a handle to registry\n",
        "ml_client = MLClient(\n",
        "    credential=credential, registry_name=\"azureml\", registry_location=\"swedencentral\"\n",
        ")\n",
        "\n",
        "finetune_pipeline = load_component(\n",
        "    client=ml_client, name=\"openai_completions_finetune_pipeline\", version=\"0.1.2\"\n",
        ")"
      ]
    },
    {
      "cell_type": "code",
      "execution_count": null,
      "metadata": {
        "gather": {
          "logged": 1704907305420
        },
        "jupyter": {
          "outputs_hidden": false,
          "source_hidden": false
        },
        "nteract": {
          "transient": {
            "deleting": false
          }
        }
      },
      "outputs": [],
      "source": [
        "models = ml_client.models.list()\n",
        "for model in models:\n",
        "    print(model.name)\n",
        "    print(model.version)"
      ]
    },
    {
      "cell_type": "code",
      "execution_count": null,
      "metadata": {
        "gather": {
          "logged": 1704907308937
        },
        "jupyter": {
          "outputs_hidden": false,
          "source_hidden": false
        },
        "nteract": {
          "transient": {
            "deleting": false
          }
        }
      },
      "outputs": [],
      "source": [
        "print(\"Pipeline component loaded successfully. Component spec:\")\n",
        "print(finetune_pipeline)"
      ]
    },
    {
      "cell_type": "code",
      "execution_count": null,
      "metadata": {
        "gather": {
          "logged": 1704907324728
        },
        "jupyter": {
          "outputs_hidden": false,
          "source_hidden": false
        },
        "nteract": {
          "transient": {
            "deleting": false
          }
        }
      },
      "outputs": [],
      "source": [
        "TASK_TYPE = \"completion\"  # Change this to completion for completion dataset\n",
        "\n",
        "\n",
        "# Construct pipeline\n",
        "@pipeline()\n",
        "def pipeline_with_registered_component(\n",
        "    train_dataset,\n",
        "    validation_dataset,\n",
        "    training_max_epochs=45,\n",
        "    model=\"babbage-002\",\n",
        "    registered_model_name=\"sdk-train-babbage-polysilicon-m03\",\n",
        "    learning_rate_multiplier=1,\n",
        "    batch_size=15,\n",
        "    task_type=\"completion\",\n",
        "):\n",
        "    openai_completions_finetune_component_results = finetune_pipeline(\n",
        "        train_dataset=train_dataset,\n",
        "        validation_dataset=validation_dataset,\n",
        "        n_epochs=training_max_epochs,\n",
        "        model=model,\n",
        "        task_type=task_type,\n",
        "        registered_model_name=registered_model_name,\n",
        "        learning_rate_multiplier=learning_rate_multiplier,\n",
        "        batch_size=batch_size,\n",
        "    )\n",
        "\n",
        "    return openai_completions_finetune_component_results\n",
        "\n",
        "\n",
        "pipeline_job = pipeline_with_registered_component(\n",
        "    train_dataset=Input(type=AssetTypes.URI_FILE, path=\"./data/solar_train_dataset.jsonl\"),\n",
        "    validation_dataset=Input(type=AssetTypes.URI_FILE, path=\"./data/solar_valid_dataset.jsonl\"),\n",
        "    training_max_epochs=45,\n",
        "    model=\"babbage-002\",  # Select any model from [\"babbage-002\", \"davinci-002\", \"gpt-35-turbo\"]\n",
        "    task_type=TASK_TYPE,\n",
        "    registered_model_name=\"sdk-train-babbage-polysilicon-m03\",\n",
        "    learning_rate_multiplier=1,\n",
        "    batch_size=15,\n",
        ")\n",
        "\n",
        "# set pipeline level compute\n",
        "pipeline_job.settings.default_compute = \"serverless\""
      ]
    },
    {
      "cell_type": "code",
      "execution_count": null,
      "metadata": {
        "gather": {
          "logged": 1704909646220
        },
        "jupyter": {
          "outputs_hidden": false,
          "source_hidden": false
        },
        "nteract": {
          "transient": {
            "deleting": false
          }
        }
      },
      "outputs": [],
      "source": [
        "workspace_ml_client = MLClient(credential, subscription_id, resource_group, workspace_name)"
      ]
    },
    {
      "cell_type": "code",
      "execution_count": null,
      "metadata": {
        "gather": {
          "logged": 1704907356183
        },
        "jupyter": {
          "outputs_hidden": false,
          "source_hidden": false
        },
        "nteract": {
          "transient": {
            "deleting": false
          }
        }
      },
      "outputs": [],
      "source": [
        "# Submit pipeline job to workspace\n",
        "pipeline_job = workspace_ml_client.jobs.create_or_update(\n",
        "    pipeline_job, experiment_name=\"sdk-train-pipeline-babbage-polysilicon-m03\"\n",
        ")\n",
        "pipeline_job"
      ]
    },
    {
      "cell_type": "code",
      "execution_count": null,
      "metadata": {
        "gather": {
          "logged": 1704909670164
        },
        "jupyter": {
          "outputs_hidden": false,
          "source_hidden": false
        },
        "nteract": {
          "transient": {
            "deleting": false
          }
        }
      },
      "outputs": [],
      "source": [
        "import requests\n",
        "import json\n",
        "import subprocess\n",
        "\n",
        "# 1. Add your Azure OpenAI account details\n",
        "subscription = \"\"\n",
        "resource_group = \"\"\n",
        "resource_name = \"\" #openai resource name\n",
        "model_deployment_name = \"sdk-train-babbage-polysilicon-m03\"\n",
        "\n",
        "# 2. Add the AzureML registered model name, registered model version, and the AzureML (AML) workspace path for your fine-tuned model.\n",
        "# Your registered models data can be found in the `Models` tab of your AzureML workspace.\n",
        "registered_model_name = \"sdk-train-babbage-polysilicon-m03\"\n",
        "registered_model_version = \"1\"\n",
        "workspace_path = f\"/subscriptions/<>/resourcegroups/<>/providers/Microsoft.MachineLearningServices/workspaces/<>\"\n",
        "#workspace_path = f\"/subscriptions/{subscription}/resourcegroups/{resource_group}/providers/Microsoft.MachineLearningServices/workspaces/{workspace_name}\"\n"
      ]
    },
    {
      "cell_type": "code",
      "execution_count": null,
      "metadata": {
        "gather": {
          "logged": 1704909678758
        },
        "jupyter": {
          "outputs_hidden": false,
          "source_hidden": false
        },
        "nteract": {
          "transient": {
            "deleting": false
          }
        }
      },
      "outputs": [],
      "source": [
        "from azure.identity import DefaultAzureCredential, InteractiveBrowserCredential\n",
        "\n",
        "try:\n",
        "    credential = DefaultAzureCredential()\n",
        "    # Check if given credential can get token successfully.\n",
        "    access_token = credential.get_token(\"https://management.azure.com/.default\")\n",
        "    token = access_token.token\n",
        "except Exception as ex:\n",
        "    # Fall back to InteractiveBrowserCredential in case DefaultAzureCredential not work\n",
        "    # This will open a browser page for\n",
        "    credential = InteractiveBrowserCredential()"
      ]
    },
    {
      "cell_type": "code",
      "execution_count": null,
      "metadata": {
        "gather": {
          "logged": 1704892995779
        },
        "jupyter": {
          "outputs_hidden": false,
          "source_hidden": false
        },
        "nteract": {
          "transient": {
            "deleting": false
          }
        }
      },
      "outputs": [],
      "source": [
        "deploy_params = {\"api-version\": \"2023-05-01\"}\n",
        "deploy_headers = {\n",
        "    \"Authorization\": f\"Bearer {token}\",\n",
        "    \"Content-Type\": \"application/json\",\n",
        "}\n",
        "\n",
        "# 4. Set model deployment configuration. Here capacity refers to support for `1K Tokens Per Minute (TPM)` for your deployment.\n",
        "deploy_data = {\n",
        "    \"sku\": {\"name\": \"Standard\", \"capacity\": 1},\n",
        "    \"properties\": {\n",
        "        \"model\": {\n",
        "            \"format\": \"OpenAI\",\n",
        "            \"name\": f\"{registered_model_name}\",\n",
        "            \"version\": f\"{registered_model_version}\",\n",
        "            \"source\": f\"{workspace_path}\",\n",
        "        }\n",
        "    },\n",
        "}\n",
        "\n",
        "deploy_data = json.dumps(deploy_data)"
      ]
    },
    {
      "cell_type": "code",
      "execution_count": null,
      "metadata": {
        "gather": {
          "logged": 1704909705397
        },
        "jupyter": {
          "outputs_hidden": false,
          "source_hidden": false
        },
        "nteract": {
          "transient": {
            "deleting": false
          }
        }
      },
      "outputs": [],
      "source": [
        "deploy_params = {\"api-version\": \"2023-05-01\"}\n",
        "deploy_headers = {\n",
        "    \"Authorization\": f\"Bearer {token}\",\n",
        "    \"Content-Type\": \"application/json\",\n",
        "}\n",
        "\n",
        "# 4. Set model deployment configuration. Here capacity refers to support for `1K Tokens Per Minute (TPM)` for your deployment.\n",
        "deploy_data = {\n",
        "    \"sku\": {\"name\": \"Standard\", \"capacity\": 50},\n",
        "    \"properties\": {\n",
        "        \"model\": {\n",
        "            \"format\": \"OpenAI\",\n",
        "            \"name\": f\"{registered_model_name}\",\n",
        "            \"version\": f\"{registered_model_version}\",\n",
        "            \"source\": f\"{workspace_path}\",\n",
        "        }\n",
        "    },\n",
        "}\n",
        "\n",
        "deploy_data = json.dumps(deploy_data)"
      ]
    },
    {
      "cell_type": "code",
      "execution_count": null,
      "metadata": {
        "gather": {
          "logged": 1704909752364
        },
        "jupyter": {
          "outputs_hidden": false,
          "source_hidden": false
        },
        "nteract": {
          "transient": {
            "deleting": false
          }
        }
      },
      "outputs": [],
      "source": [
        "# 5. Send PUT request to Azure cognitive services to create model deployment\n",
        "request_url = f\"https://management.azure.com//subscriptions/**/resourcegroups/**/providers/Microsoft.CognitiveServices/accounts/ailabazopenaise/deployments/sdk-train-babbage-polysilicon-m03\"\n",
        "\n",
        "r = requests.put(\n",
        "    request_url, \n",
        "    params=deploy_params, \n",
        "    headers=deploy_headers, \n",
        "    data=deploy_data\n",
        ")\n",
        "\n",
        "print(r.json())\n"
      ]
    }
  ],
  "metadata": {
    "kernel_info": {
      "name": "python310-sdkv2"
    },
    "kernelspec": {
      "display_name": "Python 3.10 - SDK v2",
      "language": "python",
      "name": "python310-sdkv2"
    },
    "language_info": {
      "codemirror_mode": {
        "name": "ipython",
        "version": 3
      },
      "file_extension": ".py",
      "mimetype": "text/x-python",
      "name": "python",
      "nbconvert_exporter": "python",
      "pygments_lexer": "ipython3",
      "version": "3.10.11"
    },
    "microsoft": {
      "host": {
        "AzureML": {
          "notebookHasBeenCompleted": true
        }
      },
      "ms_spell_check": {
        "ms_spell_check_language": "en"
      }
    },
    "nteract": {
      "version": "nteract-front-end@1.0.0"
    }
  },
  "nbformat": 4,
  "nbformat_minor": 2
}
